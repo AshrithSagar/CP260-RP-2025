{
  "cells": [
    {
      "cell_type": "markdown",
      "metadata": {
        "colab_type": "text",
        "id": "view-in-github"
      },
      "source": [
        "<a href=\"https://colab.research.google.com/github/AshrithSagar/CP260-RP-2025/blob/develop/3_Lab_CP260_2025_Q.ipynb\" target=\"_parent\"><img src=\"https://colab.research.google.com/assets/colab-badge.svg\" alt=\"Open In Colab\"/></a>"
      ]
    },
    {
      "cell_type": "markdown",
      "metadata": {
        "id": "znnNsAmmXcSs"
      },
      "source": [
        "---\n",
        "**Lab 3: Non-Linear Least Squares based Pose Optimization**\n",
        "\n",
        "Reference:\n",
        "\n",
        "Chapter 10 of \"Probabilistic robotcs\", Thrun\n",
        "\n",
        "Chapter 2,3 of \"Factor Graphs\" by Daellert\n",
        "\n",
        "\n",
        "\"Scipy's: Least squares function\":\n",
        "https://docs.scipy.org/doc/scipy/reference/generated/scipy.optimize.least_squares.html#scipy.optimize.least_squares"
      ]
    },
    {
      "cell_type": "code",
      "execution_count": 1,
      "metadata": {
        "id": "0IQEcEHhWaus"
      },
      "outputs": [],
      "source": [
        "import numpy as np\n",
        "import matplotlib.pyplot as plt\n",
        "import scipy"
      ]
    },
    {
      "cell_type": "markdown",
      "metadata": {
        "id": "dchXNTMDh3hH"
      },
      "source": [
        "**Q1**\n",
        "\n",
        "Use scipys least squares solver to estimate the location of the robot, given the bearing measurements.\n",
        "\n",
        "L is the set of landmarks.\n",
        "\n",
        "Use the appropriate loss function to handle outliers."
      ]
    },
    {
      "cell_type": "code",
      "execution_count": null,
      "metadata": {
        "colab": {
          "base_uri": "https://localhost:8080/"
        },
        "id": "OynevA8GH6OY",
        "outputId": "031c806e-8296-44d3-b90e-13f76c6cf7e5"
      },
      "outputs": [
        {
          "name": "stdout",
          "output_type": "stream",
          "text": [
            "3.4491333260421384 4.834361409793265\n",
            "[-0.74096699  1.20011529]\n"
          ]
        }
      ],
      "source": [
        "rng = np.random.default_rng(42)\n",
        "\n",
        "L = np.array([\n",
        "    [2,6],\n",
        "    [8,6],\n",
        "    [9,2],\n",
        "    [11,6],\n",
        "    [15,1],\n",
        "    [20.1,21.1],\n",
        "    [-2,3.4],\n",
        "    [3,4],\n",
        "    [8,9],\n",
        "    [10,10],\n",
        "    [13,45],\n",
        "    [8.0,9.1]\n",
        "])\n",
        "\n",
        "def Meas_Bearing(p, L, std=0.0,n_outliers=0):\n",
        "  '''measure bearing from p to each point of L\n",
        "  inputs:\n",
        "  p: x,y location\n",
        "  L: array of 2D landmarks\n",
        "  std: std deviation of each bearing measurment\n",
        "  n_outliers: number of outliers\n",
        "  returns\n",
        "  a: array of bearing measurements to each landmark\n",
        "  '''\n",
        "  error = np.random.normal(0,std,L.shape[0])\n",
        "  outliers = rng.integers(0, L.shape[0], n_outliers)\n",
        "  error[outliers] *= 100\n",
        "  return np.arctan2(L[:,1]-p[1],L[:,0]-p[0])+error\n",
        "\n",
        "\n",
        "\n",
        "p0 = np.array([100.0,100.0])\n",
        "\n",
        "\n",
        "p_true=np.array([0.0,0.0]) #At origin\n",
        "m = Meas_Bearing(p_true,L,0.1,2)\n",
        "\n",
        "def bearing_residuals(p, L, m):\n",
        "    \"\"\"\n",
        "    Compute the difference between the predicted and measured bearings.\n",
        "    Angle differences are wrapped to [-pi, pi].\n",
        "    \"\"\"\n",
        "    pred = np.arctan2(L[:, 1] - p[1], L[:, 0] - p[0])\n",
        "    diff = pred - m\n",
        "    diff = (diff + np.pi) % (2 * np.pi) - np.pi\n",
        "    return diff\n",
        "\n",
        "# Use a robust loss (here 'huber') to lessen the effect of outliers.\n",
        "result = scipy.optimize.least_squares(bearing_residuals, p0, args=(L, m), loss='huber')\n",
        "\n",
        "# For diagnostic purposes, we can compare the robust cost with the standard least-squares cost.\n",
        "cost_robust = result.cost  # robust cost (0.5 * sum(loss_i))\n",
        "cost_normal = 0.5 * np.sum(bearing_residuals(result.x, L, m)**2)  # unmodified LS cost\n",
        "\n",
        "# Estimated robot location\n",
        "ans = result.x\n",
        "print(cost_robust, cost_normal)\n",
        "\n",
        "#ans=\n",
        "print(ans)"
      ]
    },
    {
      "cell_type": "markdown",
      "metadata": {
        "id": "Fh--MyZu42jH"
      },
      "source": [
        "**Q2**\n",
        "\n",
        "Setup a pose graph optimization for poses with measurement factors for pose and landmarks at every 100 time steps\n",
        "\n",
        "Use the particle filter based pose estimation as starting values and then optimize this pose graph using the scipy's least square solver.\n",
        "\n",
        "Plot the measurement error and compare with just particle filter based estimator.\n",
        "\n",
        "\n",
        "Note the code below just does the particle filter based estimator - just for your reference."
      ]
    },
    {
      "cell_type": "code",
      "execution_count": 3,
      "metadata": {
        "id": "YAJlu5sWjCVX"
      },
      "outputs": [],
      "source": [
        "def create_uniform_particles(x_range, y_range, hdg_range, N):\n",
        "  '''Uniform distributin of particles\n",
        "  x_range: (min, max)\n",
        "  y_range: (min, max)\n",
        "  hdg_range: (min, max)\n",
        "  N: number of particles\n",
        "  '''\n",
        "  particles = np.empty((N, 3))\n",
        "  particles[:, 0] = np.random.uniform(x_range[0], x_range[1], size=N)\n",
        "  particles[:, 1] = np.random.uniform(y_range[0], y_range[1], size=N)\n",
        "  particles[:, 2] = np.random.uniform(hdg_range[0], hdg_range[1], size=N)\n",
        "  particles[:, 2] %= 2 * np.pi\n",
        "  weights = np.ones(N)/N\n",
        "  return particles,weights\n",
        "\n",
        "def plot_particles(particles):\n",
        "  plt.scatter(particles[:,0],particles[:,1],s=0.1,color='r')\n",
        "  plt.show()\n",
        "\n",
        "def predict_particles(particles, u, std, dt=0.1):\n",
        "  \"\"\" move according control input\n",
        "  particle: numpy array of particles with (x,y,ang)\n",
        "  u : control input(linear speed, angular speed)\n",
        "  std: std. deviation of process noise (dist std, ang std)\n",
        "  dt: time step\n",
        "  returns\n",
        "  updated list of particles\n",
        "  \"\"\"\n",
        "\n",
        "  N = len(particles)\n",
        "  # update heading\n",
        "  particles[:, 2] += u[1]*dt + (np.random.randn(N) * std[1])\n",
        "  particles[:, 2] %= 2 * np.pi\n",
        "\n",
        "  # move each in the (noisy) commanded direction\n",
        "  dist = (u[0] * dt) + (np.random.randn(N) * std[0])\n",
        "  particles[:, 0] += np.cos(particles[:, 2]) * dist\n",
        "  particles[:, 1] += np.sin(particles[:, 2]) * dist\n",
        "  return particles\n"
      ]
    },
    {
      "cell_type": "code",
      "execution_count": 4,
      "metadata": {
        "id": "-47KcD_wYkd4"
      },
      "outputs": [],
      "source": [
        "def update_true_pose(pose,u, dt=0.1,pstd=np.array([0.0,0.0])):\n",
        "  '''update the true pose\n",
        "  pose: (x,y,ang)\n",
        "  u: (linear velocity, angular velocity)\n",
        "  std: (linear noise, angular noise)\n",
        "  dt: time step\n",
        "  cov: noise std dev (linear velocity, ang. velocity)\n",
        "  return\n",
        "  updated pose\n",
        "  '''\n",
        "  # update heading\n",
        "  pose[2] += (u[1]+np.random.normal(0,pstd[1]))*dt\n",
        "  pose[2] %= 2 * np.pi\n",
        "\n",
        "  # move in the commanded direction\n",
        "  dist = (u[0]+np.random.normal(0,pstd[0])) * dt\n",
        "  pose[0] += np.cos(pose[2]) * dist\n",
        "  pose[1] += np.sin(pose[2]) * dist\n",
        "  return pose\n",
        "\n",
        "def make_measurements(pose, mapL, dist_range=10.0, R=np.array([0.0,0.0])):\n",
        "  ''' make measurements of the land from the given pose\n",
        "  pose: current pose\n",
        "  mapL: list of landmarks (x,y) with their ids\n",
        "  dist_range: only landmarks withing dist_range of pose will be measured\n",
        "  ang_range: only landmarks in the relative angle range of pose will be measured (120)\n",
        "  R: Measurement std deviation (distance, angle), with zero mean gaussian\n",
        "\n",
        "  return\n",
        "  Z: (x, y, ang, landmark id) of measurements\n",
        "  '''\n",
        "  Z=[]\n",
        "  dstd=R[0]\n",
        "  astd=R[1]\n",
        "  for lid in mapL: #iterate through all landmarks\n",
        "    lx,ly = mapL[lid]\n",
        "    if (np.linalg.norm(pose[0:2]-np.array([lx,ly])) < dist_range):\n",
        "      #landmark within measurement range\n",
        "      ang = np.arctan2(ly-pose[1],lx-pose[0])-pose[2] + (np.random.randn() * astd)\n",
        "      if (ang > np.pi):\n",
        "        ang -= 2*np.pi\n",
        "      elif (ang < -np.pi):\n",
        "        ang += 2*np.pi\n",
        "      dist = np.linalg.norm(pose[0:2]-np.array([lx,ly])) + (np.random.randn() * dstd)\n",
        "      Z.append([dist,ang,lid])\n",
        "  return np.array(Z)\n"
      ]
    },
    {
      "cell_type": "code",
      "execution_count": 5,
      "metadata": {
        "colab": {
          "base_uri": "https://localhost:8080/",
          "height": 430
        },
        "id": "jsCUY9oqaNje",
        "outputId": "8a191462-ab89-4967-ed19-8e3077b29bfd"
      },
      "outputs": [
        {
          "data": {
            "image/png": "[encoded data removed]",
            "text/plain": [
              "<Figure size 640x480 with 1 Axes>"
            ]
          },
          "metadata": {},
          "output_type": "display_data"
        }
      ],
      "source": [
        "#list of landmarks\n",
        "mapL={\n",
        "    0:[1,0],\n",
        "    1:[2,0],\n",
        "    2:[6,0],\n",
        "    3:[0,1],\n",
        "    4:[0,2],\n",
        "    5:[0,4],\n",
        "    6:[0,10],\n",
        "    7:[1,10],\n",
        "    8:[5,10],\n",
        "    9:[-1,-1],\n",
        "    10:[-10,-10],\n",
        "    11:[20,20],\n",
        "    12:[15,12],\n",
        "    13:[-20,-15],\n",
        "    14:[-15,14],\n",
        "    15:[-10,5]\n",
        "}\n",
        "\n",
        "dt=0.1 #s of time step\n",
        "NT=10000 # time steps of each of size dt\n",
        "\n",
        "pose = np.zeros((NT,3))\n",
        "pose[0]=(1,1,np.pi/4) #initially pointing along diagonal\n",
        "\n",
        "u = (0.1,0.01) #go in a straight line withe speed of 1m/s\n",
        "\n",
        "pstd = np.array([0.01,0.1]) #std deviation for post update (linear, angular)\n",
        "\n",
        "for i in np.arange(1,NT):\n",
        "  pose[i] = update_true_pose(pose[i-1],u,dt,pstd)\n",
        "  Z = make_measurements(pose[i],mapL)\n",
        "  #if i % 100 == 0:\n",
        "  #  print(Z)\n",
        "\n",
        "fig,ax = plt.subplots()\n",
        "lmrk = np.array(list(mapL.values()))\n",
        "ax.scatter(lmrk[:,0],lmrk[:,1],marker=\"d\",c=\"cyan\")\n",
        "for lid in mapL:\n",
        "  ax.annotate(str(lid), (mapL[lid][0]+0.1,mapL[lid][1]))\n",
        "ax.plot(pose[:,0],pose[:,1])\n",
        "plt.show()"
      ]
    },
    {
      "cell_type": "code",
      "execution_count": 6,
      "metadata": {
        "id": "RNVnkvMlrSTY"
      },
      "outputs": [],
      "source": [
        "def simple_resample(particles, weights):\n",
        "  N = len(particles)\n",
        "  cumulative_sum = np.cumsum(weights)\n",
        "  cumulative_sum[-1] = 1. # avoid round-off error\n",
        "  indexes = np.searchsorted(cumulative_sum, np.random.random(N))\n",
        "  return indexes\n",
        "\n",
        "def Neff(weights):\n",
        "  '''\n",
        "  return effective number of particles, calculated\n",
        "  as a function of inverse sum of weights square\n",
        "  '''\n",
        "  return 1.0/np.sum(np.square(weights))\n",
        "\n",
        "def resample_from_index(particles, weights, indexes):\n",
        "  particles[:] = particles[indexes]\n",
        "  weights.resize(len(particles))\n",
        "  weights.fill(1.0 / len(weights))\n",
        "  return particles, weights\n",
        "\n",
        "def moments(particles, weights):\n",
        "  '''\n",
        "  return the mean and covariance of the weighted particles\n",
        "  '''\n",
        "  mean = np.average(particles, weights=weights, axis=0)\n",
        "  cov = np.average((particles - mean)**2, weights=weights, axis=0) #not quite correct\n",
        "  return mean, cov\n"
      ]
    },
    {
      "cell_type": "code",
      "execution_count": null,
      "metadata": {
        "id": "Xd2qu9m06vsV"
      },
      "outputs": [],
      "source": [
        "def low_variance_resample(particles, weights):\n",
        "  N = len(weights)\n",
        "  #<your code here>\n",
        "\n",
        "  # make N subdivisions, choose positions\n",
        "  # with a consistent random offset\n",
        "  positions = (np.arange(N) + np.random.random()) / N\n",
        "\n",
        "  indexes = np.zeros(N, 'i')\n",
        "  cumulative_sum = np.cumsum(weights)\n",
        "  i, j = 0, 0\n",
        "  while i < N:\n",
        "    if positions[i] < cumulative_sum[j]:\n",
        "      indexes[i] = j\n",
        "      i += 1\n",
        "    else:\n",
        "      j += 1\n",
        "  return indexes\n",
        "\n",
        "def adaptive_low_variance_resample(particles, weights, wslow, wfast):\n",
        "  #<your code here>\n",
        "  N = len(weights)\n",
        "  # make N subdivisions, choose positions\n",
        "  # with a consistent random offset\n",
        "  positions = (np.arange(N) + np.random.random()) / N\n",
        "  \n",
        "  indexes = np.zeros(N, 'i')\n",
        "  cumulative_sum = np.cumsum(weights)\n",
        "  i, j = 0, 0\n",
        "  while i < N:\n",
        "    if positions[i] < cumulative_sum[j]:\n",
        "      indexes[i] = j\n",
        "      i += 1\n",
        "    else:\n",
        "      j += 1\n",
        "  neff = Neff(weights)\n",
        "  if neff < N*wslow:\n",
        "    indexes = low_variance_resample(particles, weights)\n",
        "  elif neff > N*wfast:\n",
        "    indexes = np.arange(N)\n",
        "\n",
        "  return indexes\n",
        "\n",
        "def update_particle_weights(particles, weights, Z, R, mapL):\n",
        "  ''' update the weights with measurement likelihood\n",
        "  particles: Nx3 array of particles with x,y, ang\n",
        "  weights: Nx1 array of weight for each particle\n",
        "  Z: M x 3 (range, ang, landmark id) is the set of measurements\n",
        "  R: measurement noise covariance R[0]: distance cov, R[1]: ang covariance\n",
        "  mapL: L x 2 (lx, ly) location of landmarks in the map\n",
        "  returns\n",
        "  updated weights (multiplied by likelihood)\n",
        "  '''\n",
        "\n",
        "\n",
        "  #for each measurement\n",
        "  for zdist,zang,zid in Z:\n",
        "    #<your code>\n",
        "\n",
        "    lx,ly = mapL[zid]\n",
        "    distances = np.linalg.norm(particles[:, 0:2] - np.array([lx,ly]), axis=1)\n",
        "    angles = np.arctan2(ly - particles[:, 1], lx - particles[:, 0])\n",
        "    angles -= particles[:, 2]\n",
        "    angles = np.where(angles> np.pi, angles-2*np.pi, angles)\n",
        "    angles = np.where(angles<-np.pi, angles+2*np.pi, angles)\n",
        "    lkl_dist=scipy.stats.norm(distances, R[0]).pdf(zdist)\n",
        "    weights *= lkl_dist\n",
        "    lkl_ang=scipy.stats.norm(angles, R[1]).pdf(zang)\n",
        "    weights *= lkl_ang\n",
        "  #end for\n",
        "  weights += 1.e-16  # avoid round-off to zero\n",
        "  weights /= sum(weights)\n",
        "\n",
        "  return weights\n"
      ]
    },
    {
      "cell_type": "code",
      "execution_count": 8,
      "metadata": {
        "colab": {
          "base_uri": "https://localhost:8080/",
          "height": 430
        },
        "id": "_GreWD8x3I1z",
        "outputId": "fe8b53c5-3950-432e-86c4-d861b5d63030"
      },
      "outputs": [
        {
          "data": {
            "image/png": "[encoded data removed]",
            "text/plain": [
              "<Figure size 640x480 with 1 Axes>"
            ]
          },
          "metadata": {},
          "output_type": "display_data"
        }
      ],
      "source": [
        "NP=3000 #number of particles\n",
        "NT=10000 #number of time steps for simulation\n",
        "dt=0.1 #time step\n",
        "\n",
        "u = (0.1,0.01) #go in a curve with speed of 1m/s\n",
        "pstd = np.array([0.1,0.1]) #lin, ang std for actual motion\n",
        "\n",
        "P = np.array([0.1,0.1]) #linear, angular std deviation for process model\n",
        "\n",
        "dstd = 0.5\n",
        "astd = 0.5\n",
        "R = np.array([dstd,astd]) #distance, angle std deviation for measurement\n",
        "\n",
        "\n",
        "fig,ax = plt.subplots()\n",
        "lmrk = np.array(list(mapL.values()))\n",
        "ax.scatter(lmrk[:,0],lmrk[:,1],marker=\"d\",c=\"cyan\")\n",
        "for lid in mapL:\n",
        "  ax.annotate(str(lid), (mapL[lid][0]+0.1,mapL[lid][1]))\n",
        "\n",
        "\n",
        "pose = np.zeros((NT+1,3))\n",
        "pose[0]=(1,1,np.pi/4) #initially pointing along diagonal\n",
        "particles,weights = create_uniform_particles((0,10),(0,10),(0,2*np.pi),NP)\n",
        "\n",
        "#average of slow/fast weights for adaptive resampling\n",
        "wslow = np.average(weights)\n",
        "wfast = np.average(weights)\n",
        "a_slow=1/100.0\n",
        "a_fast=1/10.0\n",
        "\n",
        "\n",
        "mean = np.zeros((NT+1,3))\n",
        "mean[0],_ = moments(particles,weights)\n",
        "\n",
        "for i in np.arange(0,NT):\n",
        "  #<your code>\n",
        "  pose[i+1] = update_true_pose(pose[i],u,dt)\n",
        "  Z = make_measurements(pose[i+1],mapL,dist_range=10.0, R=R)\n",
        "  particles = predict_particles(particles,u,std=P,dt=dt)\n",
        "  weights = update_particle_weights(particles, weights, Z, R=R, mapL=mapL)\n",
        "  mean[i+1],_ = moments(particles,weights)\n",
        "\n",
        "  #updated weights\n",
        "  wslow = wslow + a_slow*(wslow-np.average(weights))\n",
        "  wfast = wfast + a_fast*np.average(weights)\n",
        "\n",
        "  if ((i+1) % 100 == 0): #plot\n",
        "    ax.scatter(pose[i+1,0],pose[i+1,1],s=10.0,marker=\"X\", c=\"r\")\n",
        "    ax.scatter(mean[i+1,0],mean[i+1,1],s=10.0,marker=\"P\", c=\"g\")\n",
        "    ax.scatter(particles[:,0],particles[:,1],s=0.1,c='b',alpha=0.1)\n",
        "\n",
        "  #<Your code for resampling>\n",
        "  if (Neff(weights) < NP/3): #increase diversity of particles by resampling\n",
        "\n",
        "    #indexes = simple_resample(particles,weights)\n",
        "    indexes = low_variance_resample(particles,weights)\n",
        "    #indexes = adaptive_low_variance_resample(particles,weights,wslow, wfast)\n",
        "    particles,weights = resample_from_index(particles,weights,indexes)\n",
        "\n",
        "ax.scatter(pose[-1,0],pose[-1,1],s=10.0,marker=\"X\", c=\"r\")\n",
        "ax.scatter(mean[-1,0],mean[-1,1],s=10.0,marker=\"P\", c=\"g\")\n",
        "ax.scatter(particles[:,0],particles[:,1],s=0.1,c='b',alpha=0.1)\n",
        "plt.show()"
      ]
    },
    {
      "cell_type": "code",
      "execution_count": 9,
      "metadata": {
        "colab": {
          "base_uri": "https://localhost:8080/",
          "height": 452
        },
        "id": "gwwJ7Be1hxlZ",
        "outputId": "464ba27c-6627-41fb-f2d9-4b657ee5eff1"
      },
      "outputs": [
        {
          "data": {
            "image/png": "[encoded data removed]",
            "text/plain": [
              "<Figure size 640x480 with 1 Axes>"
            ]
          },
          "metadata": {},
          "output_type": "display_data"
        }
      ],
      "source": [
        "plt.title(\"Error with timestep\")\n",
        "plt.plot(np.linalg.norm(mean-pose, axis=1))\n",
        "plt.show()"
      ]
    },
    {
      "cell_type": "code",
      "execution_count": 10,
      "metadata": {
        "colab": {
          "base_uri": "https://localhost:8080/"
        },
        "id": "36XC8jmAlom5",
        "outputId": "507d007d-1696-4e71-aaa8-2608845120f4"
      },
      "outputs": [
        {
          "name": "stdout",
          "output_type": "stream",
          "text": [
            "[-15.85558695  10.14896306   4.50221286]\n",
            "[-15.78483148  10.24230256   4.56886282]\n"
          ]
        }
      ],
      "source": [
        "print(pose[-1])\n",
        "print(mean[-1])"
      ]
    }
  ],
  "metadata": {
    "colab": {
      "include_colab_link": true,
      "provenance": []
    },
    "kernelspec": {
      "display_name": "base",
      "language": "python",
      "name": "python3"
    },
    "language_info": {
      "codemirror_mode": {
        "name": "ipython",
        "version": 3
      },
      "file_extension": ".py",
      "mimetype": "text/x-python",
      "name": "python",
      "nbconvert_exporter": "python",
      "pygments_lexer": "ipython3",
      "version": "3.9.19"
    }
  },
  "nbformat": 4,
  "nbformat_minor": 0
}
