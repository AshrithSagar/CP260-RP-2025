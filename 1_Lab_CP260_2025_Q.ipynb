{
 "cells": [
  {
   "cell_type": "markdown",
   "metadata": {
    "colab_type": "text",
    "id": "view-in-github"
   },
   "source": [
    "<a href=\"https://colab.research.google.com/github/AshrithSagar/CP260-RP-2025/blob/main/1_Lab_CP260_2025_Q.ipynb\" target=\"_parent\"><img src=\"https://colab.research.google.com/assets/colab-badge.svg\" alt=\"Open In Colab\"/></a>"
   ]
  },
  {
   "cell_type": "markdown",
   "metadata": {
    "id": "4IWyJXRE0SiG"
   },
   "source": [
    "**CP260-2025: Lab 1**\n",
    "\n",
    "*IMU data processing*\n",
    "\n",
    "References:\n",
    "\n",
    "1. An introduction to Inertial Navigation, Woodman et. al., Technical Report 696, University of Cambridge, 2007.\n",
    "\n",
    "https://www.cl.cam.ac.uk/techreports/UCAM-CL-TR-696.pdf\n",
    "\n",
    "2. VQF: Highly Accurate IMU Orientation Estimation with Bias Estimation and Magnetic Disturbance Rejection, Laidig & Seel,\n",
    "\n",
    "Paper: https://arxiv.org/abs/2203.17024\n",
    "Code: https://github.com/dlaidig/vqf\n",
    "\n",
    "\n",
    "3. Micro-Lie Theory for State Estimation in Robotics, Sola et. al, https://arxiv.org/abs/1812.01537, 2018\n",
    "\n",
    "\n",
    "Please write your answers in the cells below For help with Latex notation, see this sites:\n",
    "\n",
    "1. https://colab.research.google.com/github/bebi103a/bebi103a.github.io/blob/master/lessons/00/intro_to_latex.ipynb\n",
    "\n",
    "2. https://oeis.org/wiki/List_of_LaTeX_mathematical_symbols"
   ]
  },
  {
   "cell_type": "code",
   "execution_count": 1,
   "metadata": {
    "id": "Z1S9VfHjsjDE"
   },
   "outputs": [],
   "source": [
    "import numpy as np\n",
    "import scipy.io as spio\n",
    "import matplotlib.pyplot as plt"
   ]
  },
  {
   "cell_type": "code",
   "execution_count": 2,
   "metadata": {
    "id": "XThEzkfusrJ1"
   },
   "outputs": [],
   "source": [
    "def QuatFromAngleAxis(w):\n",
    "  ''' w: ndarray N x 3 shape containing axis-angle in each row\n",
    "      returns: ndarray N x 4 shape containing corresponding quaternions in each row\n",
    "  '''\n",
    "  if (w.ndim == 1):\n",
    "    ang = np.linalg.norm(w)\n",
    "    return np.hstack((np.cos(ang/2), np.where(np.isclose(ang,0),np.array([0,0,0.]),np.sin(ang/2)*w/ang)))\n",
    "  else:\n",
    "    ang = np.linalg.norm(w,axis=1).reshape(-1,1)\n",
    "    return np.hstack((np.cos(ang/2), np.where(np.isclose(ang,0),np.array([0,0,0.]),np.sin(ang/2)*w/ang)))\n",
    "\n",
    "def AngleAxisFromQuat(q):\n",
    "  ''' q: ndarray N x 4 shape containing quaternions in each row\n",
    "      returns: ndarray N x 3 shape containing corresponding axis-angles in each row\n",
    "  '''\n",
    "  if (q.ndim == 1):\n",
    "    qn = np.linalg.norm(q[1:])\n",
    "    return 2*np.arccos(q[0])*(np.where(np.isclose(qn,0),np.array([1.,0,0]),q[1:]/qn))\n",
    "  else:\n",
    "    qn = np.linalg.norm(q[:,1:],axis=1).reshape(-1,1)\n",
    "    return 2*np.arccos(q[:,0]).reshape(-1,1)*(np.where(np.isclose(qn,0),np.array([1.,0,0]),q[:,1:]/qn))"
   ]
  },
  {
   "cell_type": "code",
   "execution_count": 3,
   "metadata": {
    "colab": {
     "base_uri": "https://localhost:8080/"
    },
    "id": "ktDBJi5EDE2Q",
    "outputId": "1df6be0b-dd13-4dc2-c7ba-06fe910de64a"
   },
   "outputs": [
    {
     "name": "stdout",
     "output_type": "stream",
     "text": [
      "[0.92387953 0.         0.         0.38268343]\n",
      "[0.         0.         0.78539816]\n"
     ]
    }
   ],
   "source": [
    "w = np.array([0,0,np.pi/4])\n",
    "print(QuatFromAngleAxis(w))\n",
    "print(AngleAxisFromQuat(QuatFromAngleAxis(w)))"
   ]
  },
  {
   "cell_type": "code",
   "execution_count": 4,
   "metadata": {
    "colab": {
     "base_uri": "https://localhost:8080/"
    },
    "id": "8ovsaF_1yLPH",
    "outputId": "ad631c4d-033a-4e3d-b98d-812f6bf4042a"
   },
   "outputs": [
    {
     "name": "stdout",
     "output_type": "stream",
     "text": [
      "[[0.         0.         0.78539816]\n",
      " [1.57079633 0.         0.        ]\n",
      " [0.         0.         0.        ]]\n",
      "[ True  True  True]\n"
     ]
    },
    {
     "name": "stderr",
     "output_type": "stream",
     "text": [
      "/var/folders/gn/k4mf74_539x167jvc_dfg3z00000gn/T/ipykernel_52994/502961248.py:10: RuntimeWarning: invalid value encountered in divide\n",
      "  return np.hstack((np.cos(ang/2), np.where(np.isclose(ang,0),np.array([0,0,0.]),np.sin(ang/2)*w/ang)))\n",
      "/var/folders/gn/k4mf74_539x167jvc_dfg3z00000gn/T/ipykernel_52994/502961248.py:21: RuntimeWarning: invalid value encountered in divide\n",
      "  return 2*np.arccos(q[:,0]).reshape(-1,1)*(np.where(np.isclose(qn,0),np.array([1.,0,0]),q[:,1:]/qn))\n"
     ]
    }
   ],
   "source": [
    "aa = np.array([[0,0,np.pi/4],\n",
    "               [np.pi/2,0,0],\n",
    "               [0,0,0]\n",
    "               ])\n",
    "q=QuatFromAngleAxis(aa)\n",
    "print(AngleAxisFromQuat(q))\n",
    "print(np.isclose(np.linalg.norm(AngleAxisFromQuat(q)-aa,axis=1),0))"
   ]
  },
  {
   "cell_type": "code",
   "execution_count": 5,
   "metadata": {
    "id": "T9GqVSlP5fS1"
   },
   "outputs": [],
   "source": [
    "def QuatMultiply(q1, q2):\n",
    "  ''' q1: ndarray of (4,) or N x 4 shape containing quaternions in each row\n",
    "      q2: ndarray of (4,) or N x 4 shape containing quaternions in each row\n",
    "      returns: ndarray (4,) or N x 4 shape containing corresponding product quaternions in each row\n",
    "  '''\n",
    "  if (q1.ndim == 1):\n",
    "    if (q2.ndim == 1):\n",
    "      return np.hstack((q1[0]*q2[0]-(q1[1:]*q2[1:]).sum(),q1[0]*q2[1:]+q2[0]*q1[1:]+np.cross(q1[1:],q2[1:])))\n",
    "    else:\n",
    "      return np.hstack(((q1[0]*q2[:,0]-(q1[1:]*q2[:,1:]).sum(1)).reshape(-1,1),q1[0]*q2[:,1:]+q2[:,0].reshape(-1,1)*q1[1:].reshape(1,-1)+np.cross(q1[1:],q2[:,1:])))\n",
    "  elif (q2.ndim ==1):\n",
    "    return np.hstack(((q1[:,0]*q2[0]-(q1[:,1:]*q2[1:]).sum(1)).reshape(-1,1),q1[:,0].reshape(-1,1)*q2[1:].reshape(1,-1)+q2[0]*q1[:,1:]+np.cross(q1[:,1:],q2[1:])))\n",
    "  else:\n",
    "    assert q1.shape == q2.shape\n",
    "    return np.hstack(((q1[:,0]*q2[:,0]-(q1[:,1:]*q2[:,1:]).sum(1)).reshape(-1,1),\n",
    "                    q1[:,0].reshape(-1,1)*q2[:,1:]+q2[:,0].reshape(-1,1)*q1[:,1:]+np.cross(q1[:,1:],q2[:,1:],axis=1)))"
   ]
  },
  {
   "cell_type": "code",
   "execution_count": 6,
   "metadata": {
    "colab": {
     "base_uri": "https://localhost:8080/"
    },
    "id": "FqYslZlf7lkI",
    "outputId": "a284aadd-5a8f-44dc-f4e2-8058c5d2a53c"
   },
   "outputs": [
    {
     "name": "stdout",
     "output_type": "stream",
     "text": [
      "[[2.22044605e-16 1.00000000e+00 0.00000000e+00 0.00000000e+00]\n",
      " [2.22044605e-16 0.00000000e+00 0.00000000e+00 1.00000000e+00]]\n",
      "[2.22044605e-16 1.00000000e+00 0.00000000e+00 0.00000000e+00]\n",
      "[[ 2.22044605e-16  1.00000000e+00  0.00000000e+00  0.00000000e+00]\n",
      " [ 5.00000000e-01  5.00000000e-01 -5.00000000e-01  5.00000000e-01]]\n",
      "[ 0.5  0.5 -0.5  0.5]\n",
      "[[2.22044605e-16 1.00000000e+00 0.00000000e+00 0.00000000e+00]\n",
      " [5.00000000e-01 5.00000000e-01 5.00000000e-01 5.00000000e-01]]\n"
     ]
    }
   ],
   "source": [
    "q1=np.array([[np.cos(np.pi/4),np.sin(np.pi/4),0,0],\n",
    "             [np.cos(np.pi/4),0,0,np.sin(np.pi/4)]\n",
    "             ])\n",
    "q2=np.array([[np.cos(np.pi/4),np.sin(np.pi/4),0,0],\n",
    "             [np.cos(np.pi/4),0,0,np.sin(np.pi/4)]\n",
    "             ])\n",
    "u1=np.array([np.cos(np.pi/4),np.sin(np.pi/4),0,0])\n",
    "print(QuatMultiply(q1,q2))\n",
    "print(QuatMultiply(u1,u1))\n",
    "print(QuatMultiply(q1[0],q1))\n",
    "print(QuatMultiply(u1,q2[1]))\n",
    "print(QuatMultiply(q1,q2[0]))"
   ]
  },
  {
   "cell_type": "code",
   "execution_count": 7,
   "metadata": {
    "id": "C4oKwT3c-OF3"
   },
   "outputs": [],
   "source": [
    "def QuatInverse(q):\n",
    "  ''' q: ndarray of (4,) or N x 4 shape containing quaternions in each row\n",
    "      returns: ndarray (4,) or N x 4 shape containing corresponding inverse quaternions in each row\n",
    "  '''\n",
    "  if (q.ndim==1):\n",
    "    return np.hstack((q[0],-q[1:]))\n",
    "  else:\n",
    "    return np.hstack((q[:,0].reshape(-1,1),-q[:,1:]))\n",
    "\n",
    "def QuatRot(q,v):\n",
    "  ''' q: ndarray of (4,) or N x 4 shape containing quaternions in each row\n",
    "      v: ndarray (3,) or N x 3 shape containing vectors in each row\n",
    "      returns: ndarray (3,) or N x 3 shape containing corresponding vectors in each row\n",
    "  '''\n",
    "  #convert vector into a quaternion\n",
    "  if (v.ndim==1):\n",
    "    qv = np.hstack((0,v))\n",
    "  else:\n",
    "    qv = np.hstack((np.zeros((v.shape[0],1)),v))\n",
    "\n",
    "  vr = QuatMultiply(QuatMultiply(q,qv),QuatInverse(q))\n",
    "\n",
    "  if vr.ndim == 1:\n",
    "    return  vr[1:]\n",
    "  else:\n",
    "    return vr[:,1:]\n",
    "\n",
    "def QuatNormalize(q):\n",
    "  ''' q: ndarray N x 4 shape containing quaternions in each row\n",
    "      returns: ndarray N x 4 shape containing corresponding unit quaternions in each row\n",
    "  '''\n",
    "  if (q.ndim==1):\n",
    "    return q/np.linalg.norm(q)\n",
    "  else:\n",
    "    return q/np.linalg.norm(q,axis=1).reshape(-1,1)"
   ]
  },
  {
   "cell_type": "code",
   "execution_count": 8,
   "metadata": {
    "colab": {
     "base_uri": "https://localhost:8080/"
    },
    "id": "H_pU2SrxWIIv",
    "outputId": "c734f6cb-8448-4baa-c57c-1add4f33db63"
   },
   "outputs": [
    {
     "name": "stdout",
     "output_type": "stream",
     "text": [
      "[[ 1.00000000e+00  0.00000000e+00  0.00000000e+00]\n",
      " [-1.00000000e+00  2.22044605e-16  0.00000000e+00]]\n",
      "[[1.00000000e+00 0.00000000e+00 0.00000000e+00]\n",
      " [2.22044605e-16 1.00000000e+00 0.00000000e+00]]\n",
      "[[1.00000000e+00 0.00000000e+00 0.00000000e+00]\n",
      " [0.00000000e+00 2.22044605e-16 1.00000000e+00]]\n",
      "[2.22044605e-16 1.00000000e+00 0.00000000e+00]\n"
     ]
    }
   ],
   "source": [
    "q1=np.array([[np.cos(np.pi/4),np.sin(np.pi/4),0,0],\n",
    "             [np.cos(np.pi/4),0,0,np.sin(np.pi/4)]\n",
    "             ])\n",
    "q2=np.array([[np.cos(np.pi/4),np.sin(np.pi/4),0,0],\n",
    "             [np.cos(np.pi/4),0,0,np.sin(np.pi/4)]\n",
    "             ])\n",
    "v1 = np.array([[1,0,0],[0,1,0]])\n",
    "\n",
    "print(QuatRot(q1,v1))\n",
    "print(QuatRot(q1,v1[0]))\n",
    "print(QuatRot(q1[0],v1))\n",
    "print(QuatRot(q1[1],v1[0]))\n"
   ]
  },
  {
   "cell_type": "markdown",
   "metadata": {
    "id": "J7snhYImhUBM"
   },
   "source": [
    "---\n",
    "**Q1**\n",
    "\n",
    "Write the python function that integrates a set of angular increments - given in the array dw, into the base quaternion q0"
   ]
  },
  {
   "cell_type": "code",
   "execution_count": 10,
   "metadata": {
    "id": "Xew1cljXoUFV"
   },
   "outputs": [],
   "source": [
    "def QuatInt(q0,dw):\n",
    "  ''' q0: ndarray of (4,) - start quaternion\n",
    "      dw: ndarray (3,) or N x 3 shape containing angular changes in each row\n",
    "      returns: ndarray (4,)integrated quaternion\n",
    "  '''\n",
    "  q = q0.copy()\n",
    "  for angle_axis in dw:\n",
    "        dq = QuatFromAngleAxis(angle_axis)\n",
    "        q = QuatMultiply(q, dq)\n",
    "  return q"
   ]
  },
  {
   "cell_type": "markdown",
   "metadata": {
    "id": "0hZkU_zRqXKe"
   },
   "source": [
    "---\n",
    "**Q2**\n",
    "\n",
    "Let the angular rate of rotation for a device be given as :\n",
    "\n",
    "$\\omega(t)=[\\frac{2\\pi^2}{6}cos(2\\pi t),\\frac{\\pi^2}{6}cos(2\\pi t/0.5),\\frac{\\pi^2}{6}cos(2\\pi t/0.25)]^T$\n",
    "\n",
    "\n",
    "Assume that the device starts at an initial pose of Identity.\n",
    "\n",
    "We want to estimate the pose at time t=2s.\n",
    "\n",
    "\n",
    "Plot the magnitude of axis angle at the final pose by sweeping across different time steps  for integration, starting from a timestep of 1ms to 250ms in increments of 1ms.\n",
    "\n",
    "What is your observation?"
   ]
  },
  {
   "cell_type": "code",
   "execution_count": null,
   "metadata": {
    "id": "XngsuvVhwuR0"
   },
   "outputs": [],
   "source": [
    "t0 = 0.\n",
    "t1 = 2.\n",
    "S=1.0 #period scale factor\n",
    "dtr = np.arange(0.001,0.25,0.001) #range of time steps\n",
    "qmag = np.zeros(dtr.shape[0]) #array to store the magnitude of axis-angle of the final pose\n",
    "wint = np.zeros((dtr.shape[0],3))\n",
    "i=0\n",
    "q0 = np.array([1.,0,0,0])\n",
    "w0 = np.array([0,0,0])\n",
    "for dt in dtr:\n",
    "  N = int((t1-t0)/dt)\n",
    "  t = np.linspace(t0,t1,N,endpoint=False).reshape(-1,1)\n",
    "  <your code>\n",
    "  qmag[i] = <your code> #note this is the angle\n",
    "  i=i+1\n"
   ]
  },
  {
   "cell_type": "code",
   "execution_count": null,
   "metadata": {
    "colab": {
     "base_uri": "https://localhost:8080/",
     "height": 489
    },
    "id": "fn5cTsvsPQ8Z",
    "outputId": "bec307c5-352e-471e-cd2c-f37dc1b24e60"
   },
   "outputs": [],
   "source": [
    "plt.title('Axis angle magnitude versus time step of integration')\n",
    "plt.xlabel('Time Step (ms)')\n",
    "plt.ylabel('Magnitude of the axis-angle of final pose')\n",
    "plt.plot(dtr,qmag)"
   ]
  },
  {
   "cell_type": "code",
   "execution_count": null,
   "metadata": {
    "colab": {
     "base_uri": "https://localhost:8080/",
     "height": 489
    },
    "id": "6YmX-482Ka0d",
    "outputId": "e6e03491-f40a-4856-d67c-2a27c6d363c3"
   },
   "outputs": [],
   "source": [
    "plt.title('Zoomed in for smaller time steps')\n",
    "plt.xlabel('Time Step (ms)')\n",
    "plt.ylabel('Magnitude of the axis-angle of final pose')\n",
    "plt.plot(dtr[0:100],qmag[0:100])"
   ]
  },
  {
   "cell_type": "markdown",
   "metadata": {
    "id": "oRbXVzkGiR_Q"
   },
   "source": [
    "---\n",
    "**Datasets**\n",
    "\n",
    "https://github.com/dlaidig/broad has datasets of IMU measurements along with  ground truth. The ground truth is recorded using a optical motion tracking system.\n",
    "\n",
    "Datasets under various conditions have been collected.\n",
    "\n",
    "Read the associated paper for a more detailed description of the dataset."
   ]
  },
  {
   "cell_type": "code",
   "execution_count": null,
   "metadata": {
    "colab": {
     "base_uri": "https://localhost:8080/"
    },
    "id": "WLFC061keWni",
    "outputId": "5ecc9c28-68df-46c2-b9f7-56aea1c97c0d"
   },
   "outputs": [],
   "source": [
    "#down load one dataset from BROAD\n",
    "!wget https://github.com/dlaidig/broad/raw/refs/heads/main/data_mat/01_undisturbed_slow_rotation_A.mat"
   ]
  },
  {
   "cell_type": "code",
   "execution_count": null,
   "metadata": {
    "id": "rGuw7DAbxSR3"
   },
   "outputs": [],
   "source": [
    "data = spio.loadmat(\"01_undisturbed_slow_rotation_A.mat\")"
   ]
  },
  {
   "cell_type": "code",
   "execution_count": null,
   "metadata": {
    "colab": {
     "base_uri": "https://localhost:8080/"
    },
    "id": "CwSo63szxZzM",
    "outputId": "7c105636-7750-4cf0-8f47-36b61bd6c4f2"
   },
   "outputs": [],
   "source": [
    "print(data.keys())\n",
    "gyr = data['imu_gyr']\n",
    "acc = data['imu_acc']\n",
    "mag = data['imu_mag']\n",
    "rot = QuatInverse(data['opt_quat']) #get the inverse ready to calculate error\n",
    "dt = 1.0/data['sampling_rate'][0,0]\n",
    "print(f\"Sampling time step = {dt} s\")\n"
   ]
  },
  {
   "cell_type": "markdown",
   "metadata": {
    "id": "FimblKPhiQsD"
   },
   "source": [
    "---\n",
    "Lets look at a portion of the accelerometer and gyro waveforms"
   ]
  },
  {
   "cell_type": "code",
   "execution_count": null,
   "metadata": {
    "colab": {
     "base_uri": "https://localhost:8080/",
     "height": 482
    },
    "id": "2x42DON7fbFH",
    "outputId": "00fee4ea-9257-4816-9f7a-32f1657ee250"
   },
   "outputs": [],
   "source": [
    "tb = 10000\n",
    "plt.plot(acc[tb:tb+100])"
   ]
  },
  {
   "cell_type": "code",
   "execution_count": null,
   "metadata": {
    "colab": {
     "base_uri": "https://localhost:8080/",
     "height": 482
    },
    "id": "Je7nniMgfq46",
    "outputId": "0da93da2-2c9d-4051-8137-060b986ad59a"
   },
   "outputs": [],
   "source": [
    "plt.plot(gyr[tb:tb+100])"
   ]
  },
  {
   "cell_type": "markdown",
   "metadata": {
    "id": "vtUDRlDKj-B9"
   },
   "source": [
    "---\n",
    "**Q3**\n",
    "Integrate the angular changes into the quaternion and plot the error w..r.t ground truth (opt_quat)."
   ]
  },
  {
   "cell_type": "code",
   "execution_count": null,
   "metadata": {
    "id": "mgFoYLvCi1Wi"
   },
   "outputs": [],
   "source": [
    "qerrMag=np.zeros(rot.shape[0])\n",
    "q = np.zeros((rot.shape[0],4))\n",
    "q[0] = QuatInverse(rot[0])\n",
    "i=1\n",
    "for w in gyr[:-2]:\n",
    "  <your code>\n",
    "  qerrMag[i] = <your code> #note this is the angle\n",
    "  i=i+1"
   ]
  },
  {
   "cell_type": "code",
   "execution_count": null,
   "metadata": {
    "colab": {
     "base_uri": "https://localhost:8080/",
     "height": 447
    },
    "id": "C33zFyl8mxSP",
    "outputId": "ffb2f17a-6295-43fa-91af-89b648516b02"
   },
   "outputs": [],
   "source": [
    "plt.plot(qerrMag)"
   ]
  },
  {
   "cell_type": "markdown",
   "metadata": {
    "id": "u6Bnuta5kSzl"
   },
   "source": [
    "We observe that the angular pose drifts away."
   ]
  },
  {
   "cell_type": "markdown",
   "metadata": {
    "id": "vXaoFosekaoP"
   },
   "source": [
    "---\n",
    "**Q4**\n",
    "\n",
    "Implement Laidig's algorithm 1 for 6DOF (only gyro and accel) and compare the error.\n",
    "\n",
    "You may use scipy/s butterworth filter"
   ]
  },
  {
   "cell_type": "code",
   "execution_count": null,
   "metadata": {
    "id": "Kes1DwQJm7aL"
   },
   "outputs": [],
   "source": [
    "qerrMag=np.zeros(rot.shape[0])\n",
    "q = np.zeros((rot.shape[0],4))\n",
    "q[0] = QuatInverse(rot[0])\n",
    "qi = np.zeros((rot.shape[0],4))\n",
    "qi[0,0]= 1.\n",
    "i=1\n",
    "u = np.array([1.,0,0,0])\n",
    "for w in gyr[:-2]:\n",
    "  <your code>\n",
    "  qerrMag[i] = <your code> #note this is the angle\n",
    "  i=i+1"
   ]
  },
  {
   "cell_type": "code",
   "execution_count": null,
   "metadata": {
    "colab": {
     "base_uri": "https://localhost:8080/",
     "height": 447
    },
    "id": "Pk0EnMwsccTb",
    "outputId": "495575c5-1bfb-4dd9-8ebd-a767d03ab942"
   },
   "outputs": [],
   "source": [
    "plt.plot(qerrMag)"
   ]
  },
  {
   "cell_type": "markdown",
   "metadata": {
    "id": "3dcx0Y2Nk_GY"
   },
   "source": [
    "**Angular position - Integral of Angular Velocity**\n",
    "\n",
    "For each of the three axis a measurement model for the angular velcoity is given as:\n",
    "\n",
    "$\\dot{\\theta}^m(t)= \\omega^m(t)=\\omega(t)+n_{gr}(t)+b_{g}(t)$\n",
    "\n",
    "Where:\n",
    "\n",
    "$\\omega(t)$ is the true angular velocity\n",
    "\n",
    "$n_{gr}(t)$ is angular rate random noise modeled to have white spectral density\n",
    "\n",
    "$b_{g}(t)$ is the randomness of the angular rate bias, due to slow drift of the bias and is modeled as a random walk of a white noise source:\n",
    "\n",
    "$b_{g}(t) = \\int_{-∞}^t n_{gb}(t) dt $\n",
    "\n",
    "The anglular position is then obtained as:\n",
    "\n",
    "$\\theta(t) = \\theta(t_0)+\\int_{t_0}^{t} \\omega(t)dt$\n",
    "\n",
    "A sensor measures the signal at discrete time, with a sampling rate of $f_s$ Hz (or samples per second).\n",
    "\n",
    "Usually, an anti-aliasing filter of bandwith $< \\frac{f_s}{2}$ is used before the analog to digital converter in the electronics front end, to avoid aliasing (Nyquist theorem).\n",
    "\n",
    "Thus for the $k^{th}$ time sample:\n",
    "\n",
    "$\\omega^m_k = \\omega_k + n_{gr_k}+b_{g_k}$\n",
    "\n",
    "$b_{g_k} = b_{g_{k-1}} + n_{gb_k}$\n",
    "\n",
    "Here $n_{gr_k}$ and $n_{gb_k}$ are the sampled versions of the respective continous noise process.\n",
    "\n",
    "\n",
    "The noise variances for the sampled case is obtained from the respective power spectral density of the continuous version as:\n",
    "\n",
    "$\\sigma_{gr}^s = \\sigma_{gr}\\sqrt{f_s}$\n",
    "\n",
    "$\\sigma_{gb}^s = \\sigma_{gb}\\sqrt{f_s}$"
   ]
  },
  {
   "cell_type": "markdown",
   "metadata": {
    "id": "IRm9ygF5lDmR"
   },
   "source": [
    "---\n",
    "**Noise Spectral Density**\n",
    "\n",
    "$n(t)$ is a random process (collection of random variables indexed by a continuous variable: t). Assume zero mean.\n",
    "\n",
    "Auto-correlation: $R(t_1, t_1+\\tau) = En(t_1)n(t_1+\\tau)$\n",
    "\n",
    " $S_n(t_1, f) = FFT(R(t_1, t_1+\\tau)) = \\int e^{-i2\\pi f\\tau}R(t_1,t_1+\\tau)d\\tau$\n",
    "\n",
    "is the power spectral density.\n",
    "\n",
    "For a wide sense stationary process, $R(t_1, t_1+\\tau) = R(\\tau)$, i.e it is independant of $t_1$.\n",
    "\n",
    "By Parseval's theoram\n",
    "\n",
    "$\\int |S(f)| df = R(0) = En^2(t)$ is the average power in the signal.\n",
    "\n",
    "Hence $S(f)$ is the power spectral density - i.e. power per unit frequency.\n",
    "\n",
    "For Random process where $n(t_1)$ and $n(t_2)$ are independent for all $t_1 \\neq t_2$ then\n",
    "\n",
    "$R(\\tau) = \\sigma^2 \\delta(\\tau)$ where $\\sigma^2 = En^2(t)$ is the average power or variance and $\\delta(\\tau)$ is the Dirac delta function.\n",
    "\n",
    "\n",
    "When such a noise is sampled in time with a sampling rate of $f_s$, usually we have a anti-aliasing filter (low pass filter_ of bandwidth $f_s/2$ before sampling - which restricts the total noise power after sampling to be\n",
    "\n",
    "$\\sigma^2 f_s$\n",
    "\n",
    "Hence the $n(t)\\ \\ \\ \\tilde\\ \\ \\ N(0,\\sigma)$ after sampling at $f_s$ gives random variables $n_k\\ \\ \\ \\tilde\\ \\ \\ N(0,\\sigma\\sqrt{f_s})$"
   ]
  },
  {
   "cell_type": "markdown",
   "metadata": {
    "id": "Vf7H1UnclKpH"
   },
   "source": [
    "---\n",
    "**Specification of Angular Rate Random Noise**\n",
    "\n",
    "Randomness due to white noise in rate measurement (when sampled at $f_s = \\frac{1}{{\\Delta}t}$:\n",
    "\n",
    "$\\theta_n(t_j-t_i) = \\int_{t_i}^{t_j} n_{gr}(t) dt \\approx \\Sigma_{k=1}^N n_{gr_k} {\\Delta}t$\n",
    "\n",
    "is a random variable with zero mean and normal pdf with variance calculated as:\n",
    "\n",
    "$\\sigma_\\theta(t)^2=Var(\\theta_n(t)) \\approx N {\\Delta}t^2Var(n_{gr_k}) = t\\sigma_{gr}^{2}$\n",
    "\n",
    "\n",
    "Here $t_j-t_i = t = N\\Delta t$\n",
    "\n",
    "\n",
    "Thus noise (std. dev) grows as $\\sqrt{t}$ and is called as a random walk.\n",
    "\n",
    "This noise is specified either as a:\n",
    "\n",
    "Angular Random Walk (ARW) as $\\sigma_\\theta(1)$: units of $(°/\\sqrt{hr})$\n",
    "\n",
    "or\n",
    "\n",
    "Angular Rate Noise Density (ARND) $\\sigma_{gr}$: units $°/hr/\\sqrt{hz}$ or $°/s/\\sqrt{hz}$\n",
    "\n",
    "Note that you can convert between the two above as:\n",
    "\n",
    "$ARW(°/\\sqrt{hr})=\\frac{1}{60}ARND(°/hr/\\sqrt{hz})$"
   ]
  },
  {
   "cell_type": "markdown",
   "metadata": {
    "id": "WOeRqDzMlRlc"
   },
   "source": [
    "---\n",
    "**Bias (in) Stability**\n",
    "\n",
    "The bias slowly drifts over time. It is modeled as a random walk of a gaussian noise with spectral density $\\sigma^2_{gb}$ specified in units of ($(\\frac{°}{{s^{3/2}}{\\sqrt{Hz}}}$) or as bias instability in units of $\\frac{°}{hr}$ which represents a standard deviation of angle rate bias over a period of $\\tau$ (this time depends on the device).\n",
    "\n",
    "If $b_g(t_j)$ is the bias at time $t_j$ then\n",
    "\n",
    "$b_g(t_i) = b_g(t_j) + \\dot{\\theta_{gb}}(t_i-t_j)$\n",
    "\n",
    "where $\\dot{\\theta_{gb}}(t_i-t_j) \\approx \\Sigma_{k=1}^N n_{gb_k}{\\Delta}t $\n",
    "\n",
    "Hence $Var(\\dot{\\theta_{gb}}(t)) = \\sigma_{\\dot\\theta_{gb}}(t)^2 \\approx N {\\Delta}t^2\\sigma_{gb}^2f_s=\\sigma_{gb}^2t$.\n",
    "\n",
    "Manufacturers will usually spec  $\\sigma_{\\theta_{gb}}$ in $°/Hr$ - for a certain correlation time, $\\tau$. Which means, the std. deviation for any other time, $t \\gt \\tau$, is: $\\sigma_{\\theta_{gb}}*\\sqrt{t/\\tau}$\n",
    "\n",
    "For times $t \\lt \\tau$ we can model  the bias to be a constant."
   ]
  },
  {
   "cell_type": "markdown",
   "metadata": {
    "id": "C4KVrskDlbjM"
   },
   "source": [
    "---\n",
    "**Pose State**\n",
    "\n",
    "The pose  of the robot/camera/agent is the displacement position, angular position in some global coordinate frame.\n",
    "\n",
    "The poses are elements of the Lie Group SE(3) and represented as a 4x4 matrix as:\n",
    "\n",
    "$T_k = \\begin{bmatrix} R_k & p_k \\\\ 0 & 1 \\end{bmatrix}_{4\\times4}$\n",
    "\n",
    "Here $R_k$ is a $3\\times3$ rotation matrix and $p_k$ is a $3\\times 1$ column matrix for the displacement.\n",
    "\n",
    "The rotation matrix is orthogonal, i.e.:\n",
    "$R_kR_k^T=R_k^TR_k = I$\n",
    "\n",
    "It has three degrees of freedom (through it has 9 entries). There are multiple ways of thiking about the rotation matrix:\n",
    "\n",
    "- as a 3x3 matrix as above\n",
    "\n",
    "- as 3x3 set of angular rotations $(\\theta, \\gamma, \\phi)$ - also called Euler angles, about the three cartesian axes of the global reference frame\n",
    "\n",
    "- as an axis angle representation in the form $\\theta\\bf{u}$ where $\\bf{u}$ is a unit vector representing an axis about which an angle of $\\theta$ rotation is made.\n",
    "\n",
    "- Unit Quaternions - $q=\\begin{bmatrix} cos(\\theta) & \\sin(\\theta)\\bf{u} \\end{bmatrix}$ where  $\\theta, \\bf{u}$ is from above.\n",
    "\n",
    "Of these, the matrix notation with axis-angle representation or the quarternions are the most convenient for calculations involving derivatives.\n",
    "\n",
    "In this course we will use the matrix and axis-angle method.\n"
   ]
  },
  {
   "cell_type": "markdown",
   "metadata": {
    "id": "_pqwI2O7libY"
   },
   "source": [
    "---\n",
    "**Transforms**\n",
    "\n",
    "One will typically have multiple reference frames - the global or world frame, the body frame, camera frame etc.\n",
    "\n",
    "Let the pose of the body in the global frame be $^GT$.\n",
    "\n",
    "Then any vector in the body frame $^Bv$ gets transformed into global frame as:\n",
    "\n",
    "$^Gv = ^GT\\ ^Bv$\n",
    "\n",
    "Thus $^Bv = ^GT^{-1}\\ ^Gv = ^BT\\ ^Gv$ with $^BT = ^GT^{-1}$\n",
    "\n",
    "We will drop the superscriptsfor convenience - unless there is a need to make the context explicit.\n",
    "\n",
    "\n",
    "Hence $^GT$ is not only the pose of the agent in the global frame - but also the transform which allows one to map a body vector to a global vector."
   ]
  },
  {
   "cell_type": "markdown",
   "metadata": {
    "id": "55z-Jq8iloO4"
   },
   "source": [
    "---\n",
    "**IMU Equations**\n",
    "\n",
    "*Measurements*\n",
    "\n",
    "Angular velocity (measured in body frame):\n",
    "\n",
    "$\\omega^m_k = \\omega_k + b_{g_k} +  n_{gr_k}$\n",
    "\n",
    "Acceleration (measured in body frame):\n",
    "\n",
    "$a^m_k = ^BR_k(a_k - \\bf{g})$$\\ + b_{a_k} + n_{ar_k}$\n",
    "\n",
    "With $\\bf{g}$ as the acceleration due to gravity.\n",
    "\n",
    "$^BR_k=^GR_k^{-1}=^GR_k^T$\n",
    "\n",
    "As discussed in the previous cells:\n",
    "\n",
    "$n_{gr_k}\\ \\ \\tilde \\ \\ \\ N(0,\\sigma_{gr}\\sqrt{f_s}I_{3\\times3})= N(0,\\Sigma_{gr})$\n",
    "\n",
    "$n_{ar_k}\\ \\ \\tilde \\ \\ \\ N(0,\\sigma_{ar}\\sqrt{f_s}I_{3\\times3}) = N(0,\\Sigma_{ar})$\n",
    "\n",
    "and\n",
    "\n",
    "$b_{g_{k+1}} = b_{g_k} + n_{gb_k}$\n",
    "\n",
    "$b_{a_{k+1}} = b_{a_k} + n_{ab_k}$\n",
    "\n",
    "With\n",
    "\n",
    "$n_{gb_k}\\ \\ \\tilde \\ \\ \\ N(0,\\sigma_{gb}\\sqrt{f_s}I_{3\\times3}) = N(0,\\Sigma_{gb})$\n",
    "\n",
    "$n_{ab_k}\\ \\ \\tilde \\ \\ \\ N(0,\\sigma_{ab}\\sqrt{f_s}I_{3\\times3})= N(0,\\Sigma_{ab})$\n",
    "\n",
    "\n",
    "Using these measurements, we can track the pose state:\n",
    "\n",
    "$T_k = \\begin{bmatrix} R_k & p_k \\\\ 0 & 1 \\end{bmatrix}$ (note that this is in Global frame - we have dropped superscript G)\n",
    "\n",
    "as well as the two biases $b_{g_k}, b_{a_k}$ and the velocities $v_k$\n",
    "\n",
    "*Prediction*\n",
    "\n",
    "$R_{k+1} = R_k \\oplus ((\\omega^m_k - b_{g_k} - n_{gr_k}) \\Delta t)$ (borrowing notation from Sola et. al., Micro-Lie Theory )\n",
    "\n",
    "$v_{k+1} = v_k + R_k^T(a_k^m-b_{a_k} - n_{ar_k})\\Delta t + \\bf{g}$$\\Delta t$\n",
    "\n",
    "$p_{k+1} = p_k + v_k \\Delta t + \\frac{1}{2}\\bf{g}$$\\Delta t^2 + \\frac{1}{2}a_k \\Delta t^2 = p_k + v_k \\Delta t + \\frac{1}{2}\\bf{g}$$\\Delta t^2 + \\frac{1}{2}R_k^T(a_k^m-b_{a_k} - n_{ar_k}) \\Delta t^2$\n",
    "\n",
    "With the biases $b_{g_{k+1}}$ and\n",
    "$b_{a_{k+1}}$ evolving as given above."
   ]
  },
  {
   "cell_type": "markdown",
   "metadata": {
    "id": "pr9s-5ahlw2l"
   },
   "source": [
    "---\n",
    "**Summary of Key Results from Matrix Lie Theory**\n",
    "\n",
    "Let $G$ be a set of matrices which under matrix multiplication forms a Lie Group (i.e. there is continuity).\n",
    "\n",
    "$\\forall X,Y \\in G$ , then $XY \\in G$\n",
    "\n",
    "Example 1:\n",
    "\n",
    "$SO(2) =\\{ \\begin{bmatrix}cos(\\theta) & -sin(\\theta) \\\\ sin(\\theta) & cos(\\theta) \\end{bmatrix}|\\theta \\in ℝ \\}$ is the set of 2x2 rotation matrices in 2D plane\n",
    "\n",
    "$SE(2) : \\{ \\begin{bmatrix} cos(\\theta) & -sin(\\theta) & x \\\\ sin(\\theta) & cos(\\theta) & y \\\\ 0 & 0 & 1\\end{bmatrix}|\\theta,x,y \\in ℝ \\}$ is the set of matrices representing 2D rigid transform\n",
    "\n",
    "\n",
    " $\\frak{g}$ is the corresponding Lie Algebra (also represented as Matrices).\n",
    "\n",
    "Example 2:\n",
    "\n",
    "$\\frak{so(2)} = \\{\\begin{bmatrix} 0 & -\\theta \\\\ \\theta & 0 \\end{bmatrix}|\\theta \\in ℝ\\}$ is the Lie Algebra for $SO(2)$\n",
    "\n",
    "$\\frak{se(2)} = \\{\\begin{bmatrix} 0 & -\\theta & \\rho_x \\\\ \\theta & 0 & \\rho_y \\\\ 0 & 0 & 1\\end{bmatrix}|\\theta \\in ℝ\\}$ is the Lie Algebra for $SE(2)$\n",
    "\n",
    "**Connection between $G$ and $\\frak{g}$: The Exponential Map**\n",
    "\n",
    "$\\forall x^{\\hat{}} \\in \\frak{g}:$ $ X=e^{x^{\\hat{}}} \\in G$\n",
    "\n",
    "This can be realised via matrix exponentiation:\n",
    "\n",
    "$X = I + x^{\\hat{}} + \\frac{x^{\\hat{}2}}{2} + \\frac{x^{\\hat{}3}}{3} + ...$\n",
    "\n",
    "*Example 1a:*\n",
    "\n",
    "$e^{\\begin{bmatrix} 0 & -\\theta \\\\ \\theta & 0 \\end{bmatrix}} = \\begin{bmatrix}cos(\\theta) & -sin(\\theta) \\\\ sin(\\theta) & cos(\\theta) \\end{bmatrix}$\n"
   ]
  },
  {
   "cell_type": "markdown",
   "metadata": {
    "id": "bG1WAhTblztJ"
   },
   "source": [
    "---\n",
    "In the above equations, $R_k, p_k, v_k$ and the biases are random variables.\n",
    "\n",
    "Hence at a minimum we would like to know their means and variances.\n",
    "\n",
    "A full distribution will allow calculation of other statistics (median, percentiles etc).\n",
    "\n",
    "The phyiscal noise variables are assumed  be Gaussian (which is physically justifiable in many cases).\n",
    "\n",
    "If all equations are linear in the random variables, then gaussian-ness is preserved.\n",
    "\n",
    "However a gaussian variable passing through a non-linear funciton loses its Gaussianness.\n",
    "\n",
    "But - in order to keep the computations tractable, we still model the output variables (of the non-linear) function as Gaussians.\n",
    "\n",
    "This technique is used to extend kalman filters to cases where the system and observation equations are non-linear (giving EKF)"
   ]
  },
  {
   "cell_type": "markdown",
   "metadata": {
    "id": "o9V_XteKmBV8"
   },
   "source": [
    "Let $y = f(x)$ and $x\\ \\tilde \\ \\ N(\\mu_x, \\Sigma_x)$\n",
    "\n",
    "Then for small perturbations $n$, in  $x$,\n",
    "\n",
    "$y \\approx f(x) + J n$\n",
    "\n",
    "Here $J$ is the Jacobian.\n",
    "\n",
    "Let $y=(y_1,y_2,...,y_n)$ and $x=(x_1, x_2, ...., x_m)$ then\n",
    "\n",
    "$J = \\begin{bmatrix} \\frac{\\delta y_1}{\\delta x_1} & \\frac{\\delta y_1}{\\delta x_2} & ... & \\frac{\\delta y_1}{\\delta x_m}\\\\ \\frac{\\delta y_2}{\\delta x_1} & \\frac{\\delta y_2}{\\delta x_2} & ... & \\frac{\\delta y_2}{\\delta x_m}\\\\ ...\\\\\\frac{\\delta y_n}{\\delta x_1} & \\frac{\\delta y_n}{\\delta x_2} & ... & \\frac{\\delta y_n}{\\delta x_m}\\\\ \\end{bmatrix}_{n\\times m}$\n",
    "\n",
    "Modeling $x = \\mu_x + n$, with $n$ as 0 mean random vector with covariance $\\Sigma_x$, we can get covariance of $y$ as\n",
    "\n",
    "$\\Sigma_y = J\\Sigma_xJ^T$"
   ]
  },
  {
   "cell_type": "markdown",
   "metadata": {
    "id": "ohg8rrcfiUVH"
   },
   "source": [
    "---\n",
    "**Calculating Jacobians for Lie Group Operations**\n",
    "\n",
    "*Differentiation in Lie Groups*\n",
    "\n",
    "Let $f : G → H$ be a function between two Lie Groups.\n",
    "\n",
    "Then the right derivative along a tangent vector $v$ is:\n",
    "\n",
    "$\\frac{Df}{DX} = lt_{h→0} \\frac{f(X\\oplus hv) \\ominus f(X) }{h}$\n",
    "\n",
    "with $X \\in G$ and $\\oplus$ is for $G$ and $\\ominus$ for H\n",
    "\n",
    "So the Jacobian of $f$ is the matrix $J$ where the $i^{th}$ column is the directional derivative along the $i^{th}$ basis vector $e_i$.\n",
    "\n",
    "$J = \\begin{bmatrix} J_1 & J_2 & ... J_n\\end{bmatrix}$ with $J_i = lt_{h→0} \\frac{f(X\\oplus he_i) \\ominus f(X) }{h}$\n",
    "\n",
    "*Example 1:*\n",
    "\n",
    "Consider a function $f:SO(3) → ℝ^3$ which maps some vector $p$ to $Rp$ where $R \\in SO(3)$\n",
    "\n",
    "Then $J_i = \\frac{Df}{DR} = lt_{h→0} \\frac{f(R\\oplus e_i)\\ominus f(R)}{h} = lt_{h→0}\\frac{RExp(he_i)p-Rp}{h}=lt_{h\\rightarrow 0} \\frac{R(I+h[e_i]_\\times+h^2...)p-Rp}{h} = R[e_i]_\\times p = -R[p]_\\times e_i$\n",
    "\n",
    "Therefore $J=-R[p]_\\times$\n",
    "\n",
    "*Example 2*\n",
    "\n",
    "Let $f: G \\times  G → G$  such that $(X,Y) → X\\cdot Y = XY$ (group operation)\n",
    "\n",
    "Then $J_X e_i = \\frac{D{XY}}{dX} = lt_{h→0}\\frac{(X\\oplus e_i)Y \\ominus XY}{h} = \\frac{Log((XY)^{-1}XExp(he_i)Y)}{h}=\\frac{Log(Exp(hY^{-1}e_i{Y})}{h}=Ad_{Y^-1}e_i$\n",
    "\n",
    "($e_i$ is the unit vector along the $i^{th}$ axis)\n",
    "\n",
    "Hence $J=Ad_{Y^{-1}}$\n",
    "\n",
    "*Note*\n",
    "\n",
    "If $R$ is a rotation matrix, then $Ad_R = R$ as\n",
    "$[Ad_R(v)]_\\times = R [v]_\\times R = [Rv]_\\times$\n",
    "\n",
    "\n",
    "*Jacobians for IMU equations*\n",
    "\n",
    "The main challenge of obtaining Jacobian for IMU equations is for the one involving rotation.\n",
    "\n",
    "Suppose $R_{k+1} = R_k \\oplus v$ where $v \\in ℝ^3$ and let $v = \\theta u $ with $\\theta=||v||$ angle of rotation about unit normal $u = \\frac{v}{||v||}$\n",
    "\n",
    "\n",
    "Let $R_k = e^{[r_k]_\\times}=Exp(r_k)$ where $r_k \\in ℝ^3$ .\n",
    "\n",
    "The covariance of $R_k$ is represented in terms of the Covariance of $r_k$ as $\\Sigma_{R_k}$\n",
    "\n",
    "Let covariance of $v$ be $\\Sigma_v$.\n",
    "\n",
    "Then covariance of $R_{k+1}$ is:\n",
    "\n",
    "$\\Sigma_{R_{k+1}} = J_{R_k}\\Sigma_{R_k}J_{R_k}^T + J_r (v) \\Sigma_v J_r(v)^T$\n",
    "\n",
    "$J_{R_k} = Ad_{Exp(-v)} = Exp(-v)$ (see example 2 above)\n",
    "\n",
    "And\n",
    "\n",
    "$J_r(v) = I - \\frac{1-cos(\\theta)}{\\theta^2}[u]_\\times + \\frac{\\theta-sin(\\theta)}{\\theta^3}[u]_\\times^2$ (Eq 143,  Sola)\n",
    "\n",
    "Hence,\n",
    "\n",
    "$\\Sigma_{R_{k+1}} = Exp(-v)\\Sigma_{R_k}Exp(v) + J_r(v)\\Sigma_v J_r(v)^T$\n"
   ]
  },
  {
   "cell_type": "markdown",
   "metadata": {
    "id": "tDq-RFaFiDl_"
   },
   "source": [
    "---\n",
    "**2D Robot**\n",
    "\n",
    "\n",
    "Consider a robot in a 2D plane. Its pose at time $k$ is given by the  3x1 vector: $L_k = \\begin{bmatrix} \\theta_k \\\\ x_k \\\\ v_k \\end{bmatrix}$ where $\\theta_k$ is the yaw angle (counter clockwise rotation about the vertical - Z axis), $(x_k,y_k)$ is the location in the 2D cartesian plane.\n",
    "\n",
    "\n",
    "Assume that the robot has an IMU, which measures the angular velocity and acceleration."
   ]
  },
  {
   "cell_type": "markdown",
   "metadata": {
    "id": "DP-vsIiNjC36"
   },
   "source": [
    "---\n",
    "**Q5**\n",
    "\n",
    "Let the measurements on angular (rad/s) and linear velocities (m/s) (in the robot's body frame) at time indexes  $k$ be\n",
    "$ \\begin{bmatrix} \\omega_k \\\\ v_{x_k} \\\\ v_{y_k} \\end{bmatrix}$ and sampling time $dt$\n",
    "\n",
    "Let the pose of the robot at time k be $T_k = \\begin{bmatrix} R_k & d_k \\\\ 0 & 1\\end{bmatrix} \\in SE(2)$\n",
    "\n",
    "Write the equations for the $SE(2)$ pose at time index $k+1$ given the above measurements"
   ]
  },
  {
   "cell_type": "markdown",
   "metadata": {
    "id": "a7qswtyLjUuI"
   },
   "source": [
    "Ans:\n",
    "\n",
    "Given $\\displaystyle T_{k} = \\begin{bmatrix} R_{k} & d_{k} \\\\ 0 & 1\\end{bmatrix}$, the pose at time index $k+1$ is given by\n",
    "\n",
    "$\n",
    "\\displaystyle\n",
    "T_{k+1} = \\begin{bmatrix} R_k R(\\omega_k dt) & R_k \\begin{bmatrix} v_{x_k} \\\\ v_{y_k} \\end{bmatrix} dt + d_k \\\\ 0 & 1 \\end{bmatrix}\n",
    "$\n"
   ]
  },
  {
   "cell_type": "markdown",
   "metadata": {
    "id": "uYTixc-azVqI"
   },
   "source": [
    "---\n",
    "**Q6**\n",
    "\n",
    "Find the Jacobian of the pose $T_{k+1}$ with respect to\n",
    "\n",
    "\n",
    "a) angular position \\\\\n",
    "b) displacement \\\\\n",
    "c) angular rate \\\\\n",
    "d) velocity \\\\\n",
    "at time $k$\n",
    "\n",
    "(Hint: Refer to the paper by Sola et. al., Micro-Lie Theory)"
   ]
  },
  {
   "cell_type": "markdown",
   "metadata": {
    "id": "-qB9dqjG0EWA"
   },
   "source": [
    "Ans:\n",
    "\n",
    "a. Jacobian with respect to Angular Position $ \\theta_k $ (rotation matrix $ R_k $):\n",
    "\n",
    "$\n",
    "\\displaystyle\n",
    "\\frac{\\partial T_{k+1}}{\\partial R_k} = \\begin{bmatrix} R(\\omega_k dt) & \\begin{bmatrix} v_{x_k} \\\\ v_{y_k} \\end{bmatrix} dt \\\\ 0 & 1 \\end{bmatrix}\n",
    "$\n",
    "\n",
    "b. Jacobian with respect to Displacement $ d_k $:\n",
    "\n",
    "$\n",
    "\\displaystyle\n",
    "\\frac{\\partial T_{k+1}}{\\partial d_k} = \\begin{bmatrix} I & 0 \\\\ 0 & 1 \\end{bmatrix}\n",
    "$\n",
    "\n",
    "c. Jacobian with respect to Angular Rate $ \\omega_k $:\n",
    "\n",
    "$\n",
    "\\displaystyle\n",
    "\\frac{\\partial T_{k+1}}{\\partial \\omega_k} = \\begin{bmatrix} R_k \\cdot \\frac{\\partial R(\\omega_k dt)}{\\partial \\omega_k} & 0 \\\\ 0 & 0 \\end{bmatrix}\n",
    "$\n",
    "\n",
    "d. Jacobian with respect to Velocity $ \\begin{bmatrix} v_{x_k} \\\\ v_{y_k} \\end{bmatrix} $:\n",
    "\n",
    "$\n",
    "\\displaystyle\n",
    "\\frac{\\partial T_{k+1}}{\\partial \\begin{bmatrix} v_{x_k} \\\\ v_{y_k} \\end{bmatrix}} = \\begin{bmatrix} R_k \\cdot dt & 0 \\\\ 0 & 0 \\end{bmatrix}\n",
    "$\n"
   ]
  },
  {
   "cell_type": "markdown",
   "metadata": {
    "id": "m6IsqNKRM-oU"
   },
   "source": [
    "---\n",
    "**Q7**\n",
    "\n",
    "If the covariance in angular velocity and linear velocity measurements are $\\sigma_\\omega^2$ and $\\Sigma_v$, and the covariance in the pose is $\\Sigma_k$, find the covariance in the pose at time $k+1$"
   ]
  },
  {
   "cell_type": "markdown",
   "metadata": {
    "id": "YkFBeEeLNny0"
   },
   "source": [
    "Ans:\n",
    "\n"
   ]
  },
  {
   "cell_type": "markdown",
   "metadata": {
    "id": "KbseWIF0QWwM"
   },
   "source": [
    "---\n",
    "**Q8**\n",
    "\n",
    "Lets use the IMU measurement model from above for Yaw (rotation about the z-axis)  and  acceleration in 2D plane measurements.\n",
    "\n",
    "Write the state equations for the system (include the bias instability of the gyro and accelerometer as part of the state)\n"
   ]
  },
  {
   "cell_type": "markdown",
   "metadata": {
    "id": "Z0_QHTdNQwr-"
   },
   "source": [
    "Ans:\n",
    "\n",
    "\n",
    "\n"
   ]
  },
  {
   "cell_type": "markdown",
   "metadata": {
    "id": "SXxRr6C5xRaQ"
   },
   "source": [
    "---\n",
    "**Q9**\n",
    "\n",
    "Find the mean and covariance of $T_{k+1}$ given the covariances of all random vectors."
   ]
  },
  {
   "cell_type": "markdown",
   "metadata": {
    "id": "GPPbRxnfxhdd"
   },
   "source": [
    "Ans:\n",
    "\n",
    "\n"
   ]
  }
 ],
 "metadata": {
  "colab": {
   "include_colab_link": true,
   "provenance": []
  },
  "kernelspec": {
   "display_name": "base",
   "language": "python",
   "name": "python3"
  },
  "language_info": {
   "codemirror_mode": {
    "name": "ipython",
    "version": 3
   },
   "file_extension": ".py",
   "mimetype": "text/x-python",
   "name": "python",
   "nbconvert_exporter": "python",
   "pygments_lexer": "ipython3",
   "version": "3.9.19"
  }
 },
 "nbformat": 4,
 "nbformat_minor": 0
}
